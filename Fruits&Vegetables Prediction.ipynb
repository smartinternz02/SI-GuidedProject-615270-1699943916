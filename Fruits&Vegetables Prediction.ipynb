{
 "cells": [
  {
   "cell_type": "markdown",
   "id": "50489a00",
   "metadata": {},
   "source": [
    "### Importing Modules"
   ]
  },
  {
   "cell_type": "code",
   "execution_count": 1,
   "id": "0b035473",
   "metadata": {},
   "outputs": [],
   "source": [
    "import numpy as np\n",
    "import tensorflow as tf\n",
    "import pandas as pd\n",
    "from tensorflow.keras.preprocessing import image\n",
    "#from tensorflow.keras.preprocessing.image import ImageDataGenerator"
   ]
  },
  {
   "cell_type": "code",
   "execution_count": 2,
   "id": "67a7a9bb",
   "metadata": {},
   "outputs": [
    {
     "name": "stderr",
     "output_type": "stream",
     "text": [
      "C:\\Users\\kommi\\anaconda3\\envs\\Tf-new\\lib\\site-packages\\tqdm\\auto.py:21: TqdmWarning: IProgress not found. Please update jupyter and ipywidgets. See https://ipywidgets.readthedocs.io/en/stable/user_install.html\n",
      "  from .autonotebook import tqdm as notebook_tqdm\n"
     ]
    }
   ],
   "source": [
    "import google.generativeai as palm"
   ]
  },
  {
   "cell_type": "markdown",
   "id": "0dd50e36",
   "metadata": {},
   "source": [
    "### Import datasets"
   ]
  },
  {
   "cell_type": "code",
   "execution_count": 3,
   "id": "fb6ff56f",
   "metadata": {},
   "outputs": [],
   "source": [
    "df=pd.read_csv('vitamins.csv')"
   ]
  },
  {
   "cell_type": "code",
   "execution_count": 4,
   "id": "92a1a4af",
   "metadata": {},
   "outputs": [
    {
     "data": {
      "text/html": [
       "<div>\n",
       "<style scoped>\n",
       "    .dataframe tbody tr th:only-of-type {\n",
       "        vertical-align: middle;\n",
       "    }\n",
       "\n",
       "    .dataframe tbody tr th {\n",
       "        vertical-align: top;\n",
       "    }\n",
       "\n",
       "    .dataframe thead th {\n",
       "        text-align: right;\n",
       "    }\n",
       "</style>\n",
       "<table border=\"1\" class=\"dataframe\">\n",
       "  <thead>\n",
       "    <tr style=\"text-align: right;\">\n",
       "      <th></th>\n",
       "      <th>Name</th>\n",
       "      <th>Calories (kcal)</th>\n",
       "      <th>Carbohydrates (g)</th>\n",
       "      <th>Fiber (g)</th>\n",
       "      <th>Vitamin C (mg)</th>\n",
       "      <th>Vitamin A (IU)</th>\n",
       "      <th>Vitamin B6 (mg)</th>\n",
       "      <th>Potassium (mg)</th>\n",
       "    </tr>\n",
       "  </thead>\n",
       "  <tbody>\n",
       "    <tr>\n",
       "      <th>0</th>\n",
       "      <td>banana</td>\n",
       "      <td>105</td>\n",
       "      <td>27.0</td>\n",
       "      <td>3.1</td>\n",
       "      <td>10.3</td>\n",
       "      <td>76</td>\n",
       "      <td>0.4</td>\n",
       "      <td>422</td>\n",
       "    </tr>\n",
       "    <tr>\n",
       "      <th>1</th>\n",
       "      <td>apple</td>\n",
       "      <td>95</td>\n",
       "      <td>25.0</td>\n",
       "      <td>4.4</td>\n",
       "      <td>8.4</td>\n",
       "      <td>98</td>\n",
       "      <td>0.1</td>\n",
       "      <td>195</td>\n",
       "    </tr>\n",
       "    <tr>\n",
       "      <th>2</th>\n",
       "      <td>pear</td>\n",
       "      <td>101</td>\n",
       "      <td>27.0</td>\n",
       "      <td>5.5</td>\n",
       "      <td>4.3</td>\n",
       "      <td>80</td>\n",
       "      <td>0.1</td>\n",
       "      <td>116</td>\n",
       "    </tr>\n",
       "    <tr>\n",
       "      <th>3</th>\n",
       "      <td>grapes</td>\n",
       "      <td>62</td>\n",
       "      <td>16.0</td>\n",
       "      <td>0.8</td>\n",
       "      <td>3.2</td>\n",
       "      <td>66</td>\n",
       "      <td>0.1</td>\n",
       "      <td>191</td>\n",
       "    </tr>\n",
       "    <tr>\n",
       "      <th>4</th>\n",
       "      <td>orange</td>\n",
       "      <td>62</td>\n",
       "      <td>15.0</td>\n",
       "      <td>3.1</td>\n",
       "      <td>69.7</td>\n",
       "      <td>225</td>\n",
       "      <td>0.1</td>\n",
       "      <td>237</td>\n",
       "    </tr>\n",
       "  </tbody>\n",
       "</table>\n",
       "</div>"
      ],
      "text/plain": [
       "     Name  Calories (kcal)  Carbohydrates (g)  Fiber (g)  Vitamin C (mg)  \\\n",
       "0  banana              105               27.0        3.1            10.3   \n",
       "1   apple               95               25.0        4.4             8.4   \n",
       "2    pear              101               27.0        5.5             4.3   \n",
       "3  grapes               62               16.0        0.8             3.2   \n",
       "4  orange               62               15.0        3.1            69.7   \n",
       "\n",
       "   Vitamin A (IU)  Vitamin B6 (mg)  Potassium (mg)  \n",
       "0              76              0.4             422  \n",
       "1              98              0.1             195  \n",
       "2              80              0.1             116  \n",
       "3              66              0.1             191  \n",
       "4             225              0.1             237  "
      ]
     },
     "execution_count": 4,
     "metadata": {},
     "output_type": "execute_result"
    }
   ],
   "source": [
    "df.head()"
   ]
  },
  {
   "cell_type": "markdown",
   "id": "fdaab58a",
   "metadata": {},
   "source": [
    "### Configure API key"
   ]
  },
  {
   "cell_type": "markdown",
   "id": "4390a57b",
   "metadata": {},
   "source": [
    "#### check Readme File on how to obtain a Palm api Key"
   ]
  },
  {
   "cell_type": "code",
   "execution_count": 5,
   "id": "3757d0de",
   "metadata": {},
   "outputs": [],
   "source": [
    "palm.configure(api_key=\"YOUR_PALM_API_KEY\")"
   ]
  },
  {
   "cell_type": "markdown",
   "id": "1ed90465",
   "metadata": {},
   "source": [
    "### Loading our Pre-trained Model"
   ]
  },
  {
   "cell_type": "code",
   "execution_count": 6,
   "id": "99baaf61",
   "metadata": {},
   "outputs": [],
   "source": [
    "model = tf.keras.models.load_model('finetuned_inceptionv3_model.h5')"
   ]
  },
  {
   "cell_type": "raw",
   "id": "ea43c0b6",
   "metadata": {},
   "source": [
    "model.save('food_inceptionv3_model.pkl')"
   ]
  },
  {
   "cell_type": "markdown",
   "id": "9f348f1b",
   "metadata": {},
   "source": [
    "### Importing Labels"
   ]
  },
  {
   "cell_type": "raw",
   "id": "029b8769",
   "metadata": {},
   "source": [
    "# Run it once\n",
    "\n",
    "# Define the data generators\n",
    "train_datagen = ImageDataGenerator(\n",
    "    rescale=1./255,\n",
    "    rotation_range=20,\n",
    "    width_shift_range=0.2,\n",
    "    height_shift_range=0.2,\n",
    "    shear_range=0.2,\n",
    "    zoom_range=0.2,\n",
    "    horizontal_flip=True,\n",
    "    fill_mode='nearest')\n",
    "\n",
    "batch_size = 32\n",
    "train_data_dir='food_dataset\\\\train'\n",
    "image_size = (224, 224)\n",
    "\n",
    "train_generator = train_datagen.flow_from_directory(\n",
    "    train_data_dir,\n",
    "    target_size=image_size,\n",
    "    batch_size=batch_size,\n",
    "    class_mode='categorical')"
   ]
  },
  {
   "cell_type": "raw",
   "id": "c5fc47e7",
   "metadata": {},
   "source": [
    "#Run it once \n",
    "\n",
    "class_labels = list(train_generator.class_indices.keys())\n",
    "\n",
    "# Store class labels in a file for future use\n",
    "with open('class_labels.txt', 'w') as file:\n",
    "    for label in class_labels:\n",
    "        file.write(label + '\\n')"
   ]
  },
  {
   "cell_type": "markdown",
   "id": "4bceffdf",
   "metadata": {},
   "source": [
    "#### we only need all the class labels no need of whole dataset , to avoid loading the whole dataset , we will make class labels text file for the future use"
   ]
  },
  {
   "cell_type": "code",
   "execution_count": 7,
   "id": "c7773211",
   "metadata": {},
   "outputs": [],
   "source": [
    "# Load the class labels from the file\n",
    "with open('class_labels.txt', 'r') as file:\n",
    "    class_labels = [line.strip() for line in file.readlines()]"
   ]
  },
  {
   "cell_type": "markdown",
   "id": "eaf0688d",
   "metadata": {},
   "source": [
    "### Functions"
   ]
  },
  {
   "cell_type": "markdown",
   "id": "938ab41b",
   "metadata": {},
   "source": [
    "#### Predict Image Function will pre process the uploaded image and predict the class of image"
   ]
  },
  {
   "cell_type": "code",
   "execution_count": 8,
   "id": "1fbd7e40",
   "metadata": {},
   "outputs": [],
   "source": [
    "def predict_image(image_path):\n",
    "    img_path = image_path\n",
    "    img = image.load_img(img_path, target_size=(224, 224))\n",
    "    img_array = image.img_to_array(img)\n",
    "    img_array = np.expand_dims(img_array, axis=0)\n",
    "    img_array /= 255.\n",
    "    # Make a prediction\n",
    "    prediction = model.predict(img_array)\n",
    "    predicted_class_index = np.argmax(prediction)\n",
    "    predicted_class = class_labels[predicted_class_index] # assuming you have the train_generator\n",
    "    return predicted_class"
   ]
  },
  {
   "cell_type": "markdown",
   "id": "83e6c91e",
   "metadata": {},
   "source": [
    "#### Nutrition facts Function Produce Nutrition and Fun facts "
   ]
  },
  {
   "cell_type": "markdown",
   "id": "344bec5a",
   "metadata": {},
   "source": [
    "Nutrition facts Function uses predicted varaiable and searches its nutrition info from csv and also using text-model from Palm api it retrieves Fun facts about classified Label "
   ]
  },
  {
   "cell_type": "code",
   "execution_count": 12,
   "id": "92d65973",
   "metadata": {},
   "outputs": [],
   "source": [
    "def nutrition_facts(name):\n",
    "    if name in df['Name'].values:\n",
    "        row = df.loc[df['Name'] == name]\n",
    "        for col in df.columns:\n",
    "            print(f\"{col}:\")\n",
    "            print(f\"{row[col].values[0]}\")\n",
    "            print()\n",
    "        prompt = f\"2 fun facts about {name}\"\n",
    "        model='models/text-bison-001'\n",
    "        print(f\"Few facts about {name}:\")\n",
    "        completion= palm.generate_text(\n",
    "        model=model,\n",
    "        prompt=prompt,\n",
    "        temperature=0.3,\n",
    "        max_output_tokens=80, )\n",
    "        print(completion.result)\n",
    "    else:\n",
    "        print(f\"The value '{name}' does not exist in the dataset.\")"
   ]
  },
  {
   "cell_type": "markdown",
   "id": "552feedf",
   "metadata": {},
   "source": [
    "Main Function is to call both predict_image ,nutrition_facts"
   ]
  },
  {
   "cell_type": "code",
   "execution_count": 13,
   "id": "aa37a8db",
   "metadata": {},
   "outputs": [],
   "source": [
    "def main(x):\n",
    "    y=predict_image(x)\n",
    "    print(\"The Predicted Fruit/Veggie :\",y)\n",
    "    print(\"Vitamin Details:\")\n",
    "    print(nutrition_facts(y))"
   ]
  },
  {
   "cell_type": "code",
   "execution_count": 14,
   "id": "2f097912",
   "metadata": {},
   "outputs": [
    {
     "name": "stdout",
     "output_type": "stream",
     "text": [
      "Enter the File path: C:\\\\Users\\\\kommi\\\\Downloads\\\\tom.jpg\n",
      "1/1 [==============================] - 0s 199ms/step\n",
      "The Predicted Fruit/Veggie : tomato\n",
      "Vitamin Details:\n",
      "Name:\n",
      "tomato\n",
      "\n",
      "Calories (kcal):\n",
      "18\n",
      "\n",
      "Carbohydrates (g):\n",
      "4.0\n",
      "\n",
      "Fiber (g):\n",
      "1.2\n",
      "\n",
      "Vitamin C (mg):\n",
      "14.0\n",
      "\n",
      "Vitamin A (IU):\n",
      "833\n",
      "\n",
      "Vitamin B6 (mg):\n",
      "0.1\n",
      "\n",
      "Potassium (mg):\n",
      "237\n",
      "\n",
      "Few facts about tomato:\n",
      "1. The tomato is a fruit, not a vegetable.\n",
      "2. Tomatoes are one of the most popular fruits in the world.\n",
      "None\n"
     ]
    }
   ],
   "source": [
    "x=input(\"Enter the File path: \")\n",
    "main(x)"
   ]
  },
  {
   "cell_type": "code",
   "execution_count": null,
   "id": "2fd046b3",
   "metadata": {},
   "outputs": [],
   "source": []
  }
 ],
 "metadata": {
  "kernelspec": {
   "display_name": "Python 3 (ipykernel)",
   "language": "python",
   "name": "python3"
  },
  "language_info": {
   "codemirror_mode": {
    "name": "ipython",
    "version": 3
   },
   "file_extension": ".py",
   "mimetype": "text/x-python",
   "name": "python",
   "nbconvert_exporter": "python",
   "pygments_lexer": "ipython3",
   "version": "3.10.13"
  }
 },
 "nbformat": 4,
 "nbformat_minor": 5
}
